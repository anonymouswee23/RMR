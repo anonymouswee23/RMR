{
  "cells": [
    {
      "cell_type": "code",
      "execution_count": null,
      "metadata": {
        "colab": {
          "base_uri": "https://localhost:8080/",
          "height": 1000
        },
        "id": "tBtdLHYEK1q9",
        "outputId": "70e188cd-718e-4796-e0d0-9e8957a7a7ca"
      },
      "outputs": [],
      "source": [
        "!pip install -q portpy"
      ]
    },
    {
      "cell_type": "code",
      "execution_count": null,
      "metadata": {
        "colab": {
          "base_uri": "https://localhost:8080/",
          "height": 1000
        },
        "id": "tBtdLHYEK1q9",
        "outputId": "70e188cd-718e-4796-e0d0-9e8957a7a7ca"
      },
      "outputs": [],
      "source": [
        "!pip install -q gdown"
      ]
    },
    {
      "cell_type": "code",
      "execution_count": null,
      "metadata": {
        "colab": {
          "base_uri": "https://localhost:8080/"
        },
        "id": "NAgkLXICLL20",
        "outputId": "5ff4ee5b-28af-4300-8b4f-d54dcd81a6d5"
      },
      "outputs": [],
      "source": [
        "!gdown 1npIhssZiW1LHWpLp2o5xZlGa77eSiZWh"
      ]
    },
    {
      "cell_type": "code",
      "execution_count": null,
      "metadata": {
        "colab": {
          "base_uri": "https://localhost:8080/"
        },
        "id": "LgSsF0yxM68d",
        "outputId": "d66caff2-d9ed-47a7-a3a2-35dc678a7070"
      },
      "outputs": [],
      "source": [
        "!unzip Lung_Phantom_Patient_1.zip"
      ]
    },
    {
      "cell_type": "code",
      "execution_count": null,
      "metadata": {
        "colab": {
          "base_uri": "https://localhost:8080/"
        },
        "id": "GnMcUb9jNDYW",
        "outputId": "18673342-42d1-4cbf-c8d4-2584aebe7878"
      },
      "outputs": [],
      "source": [
        "!python main.py --method Naive --patient Lung_Phantom_Patient_1 --threshold 0.008"
      ]
    }
  ],
  "metadata": {
    "colab": {
      "provenance": []
    },
    "kernelspec": {
      "display_name": "Python 3",
      "name": "python3"
    },
    "language_info": {
      "name": "python"
    }
  },
  "nbformat": 4,
  "nbformat_minor": 0
}
